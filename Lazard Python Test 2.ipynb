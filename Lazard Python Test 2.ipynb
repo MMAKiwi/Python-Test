{
 "cells": [
  {
   "cell_type": "code",
   "execution_count": 138,
   "metadata": {},
   "outputs": [],
   "source": [
    "import pandas as pd\n",
    "import numpy as np"
   ]
  },
  {
   "cell_type": "code",
   "execution_count": 139,
   "metadata": {
    "scrolled": true
   },
   "outputs": [],
   "source": [
    "file = 'LazardTest.xlsm'"
   ]
  },
  {
   "cell_type": "code",
   "execution_count": 140,
   "metadata": {},
   "outputs": [
    {
     "name": "stdout",
     "output_type": "stream",
     "text": [
      "  Stock     Date_x   High     Date_y    Low\n",
      "0   ANZ 2019-01-21  26.31 2019-01-02  23.81\n",
      "1   BHP 2019-01-30  35.40 2019-01-23  32.24\n",
      "2   FMG 2019-01-31   5.65 2019-01-03   4.13\n"
     ]
    }
   ],
   "source": [
    "df = pd.read_excel(file, sheet_name='excel_2_data')\n",
    "\n",
    "maxid = df.groupby('Stock').High.idxmax()\n",
    "minid = df.groupby('Stock').Low.idxmin()\n",
    "output = df.loc[maxid,['Stock','Date', 'High']].merge(df.loc[minid,['Stock','Date', 'Low']], on='Stock')\n",
    "\n",
    "print (output)\n",
    "\n",
    "\n"
   ]
  },
  {
   "cell_type": "code",
   "execution_count": null,
   "metadata": {},
   "outputs": [],
   "source": []
  },
  {
   "cell_type": "code",
   "execution_count": null,
   "metadata": {},
   "outputs": [],
   "source": []
  },
  {
   "cell_type": "code",
   "execution_count": null,
   "metadata": {},
   "outputs": [],
   "source": []
  },
  {
   "cell_type": "code",
   "execution_count": null,
   "metadata": {},
   "outputs": [],
   "source": []
  }
 ],
 "metadata": {
  "kernelspec": {
   "display_name": "Python 3",
   "language": "python",
   "name": "python3"
  },
  "language_info": {
   "codemirror_mode": {
    "name": "ipython",
    "version": 3
   },
   "file_extension": ".py",
   "mimetype": "text/x-python",
   "name": "python",
   "nbconvert_exporter": "python",
   "pygments_lexer": "ipython3",
   "version": "3.7.3"
  }
 },
 "nbformat": 4,
 "nbformat_minor": 2
}
