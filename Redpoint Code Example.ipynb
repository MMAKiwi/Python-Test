{
 "cells": [
  {
   "cell_type": "markdown",
   "metadata": {},
   "source": [
    "## REDPOINT PYTHON EXAMPLE"
   ]
  },
  {
   "cell_type": "code",
   "execution_count": 3,
   "metadata": {},
   "outputs": [],
   "source": [
    "import pandas as pd\n",
    "import datetime\n",
    "import numpy as np\n",
    "import time\n",
    "import matplotlib.pyplot as plt"
   ]
  },
  {
   "cell_type": "code",
   "execution_count": 5,
   "metadata": {},
   "outputs": [],
   "source": [
    "file = 'Estimated Resident Population, States and Territories (Number).xls'\n",
    "output = 'MalePopulationTrends.xlsx'"
   ]
  },
  {
   "cell_type": "code",
   "execution_count": 18,
   "metadata": {},
   "outputs": [
    {
     "name": "stdout",
     "output_type": "stream",
     "text": [
      "The highest quarter of male population growth was 1.02%.\n",
      "This cccured in Western Australia for the quarter ending March, 2012.\n"
     ]
    }
   ],
   "source": [
    "def max_male_growth(LOOKBACK_YEARS):\n",
    "    data = pd.read_excel(file,\n",
    "                         sheet_name='Data1', index_col=0, parse_dates=True, keep_date_col=True, header = 0,\n",
    "                         skiprows = list(range(1,10))) #Skipping the top 9 rows beneath the header\n",
    "\n",
    "    data.columns = data.columns.str.split(\" ;  \", expand = True) # Turns it into a multi-index for slicing by gender\n",
    "\n",
    "    data.columns = data.columns.droplevel() # Dropping top line of index, as it contributes nothing to slicing.\n",
    "\n",
    "    data_male_last10Y = data.loc[data.index[-(4*LOOKBACK_YEARS+1)]:,('Male', slice(None))] #last X+1 quarters of Male data of all states (and total), allowing X periods of growth to be computed. Not slicing total \"Australia\" out as it will not impact Max figure.\n",
    "\n",
    "    male_quarterly_growth_last10Y = data_male_last10Y.pct_change() #Calculating growth\n",
    "\n",
    "    male_max_growth=male_quarterly_growth_last10Y.max().max()       #Finding maximum across time, then by state.\n",
    "    max_growth_state=male_quarterly_growth_last10Y.max().idxmax()[1] #Finding the index value (State) of the maximum growth.\n",
    "    max_growth_date = male_quarterly_growth_last10Y.loc[:,('Male', max_growth_state)].idxmax() #Finding the time period of occurrence given the state\n",
    "\n",
    "    return male_max_growth, max_growth_state.replace(\" ;\", ''), max_growth_date\n",
    "\n",
    "if __name__==\"__main__\": # Best practice to ensure that the script doesn't run as it \n",
    "    max_male_growth, max_growth_state, max_growth_date = max_male_growth(10)\n",
    "\n",
    "    print(\"The highest quarter of male population growth was %s.\\nThis cccured in %s for the quarter ending %s.\"\n",
    "          % (\"{0:.2%}\".format(max_male_growth), max_growth_state.replace(\" ;\", ''), max_growth_date.strftime(\"%B, %Y\")))\n",
    "\n",
    "    \n",
    "    \n",
    "    "
   ]
  },
  {
   "cell_type": "code",
   "execution_count": null,
   "metadata": {},
   "outputs": [],
   "source": []
  },
  {
   "cell_type": "code",
   "execution_count": null,
   "metadata": {},
   "outputs": [],
   "source": []
  },
  {
   "cell_type": "code",
   "execution_count": null,
   "metadata": {},
   "outputs": [],
   "source": []
  }
 ],
 "metadata": {
  "kernelspec": {
   "display_name": "Python 3",
   "language": "python",
   "name": "python3"
  },
  "language_info": {
   "codemirror_mode": {
    "name": "ipython",
    "version": 3
   },
   "file_extension": ".py",
   "mimetype": "text/x-python",
   "name": "python",
   "nbconvert_exporter": "python",
   "pygments_lexer": "ipython3",
   "version": "3.7.3"
  }
 },
 "nbformat": 4,
 "nbformat_minor": 2
}
